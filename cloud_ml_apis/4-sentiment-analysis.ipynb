{
 "cells": [
  {
   "cell_type": "code",
   "execution_count": 1,
   "metadata": {
    "collapsed": true,
    "deletable": true,
    "editable": true
   },
   "outputs": [],
   "source": [
    "from google.cloud import language\n",
    "from google.cloud.language import enums\n",
    "from google.cloud.language import types"
   ]
  },
  {
   "cell_type": "markdown",
   "metadata": {},
   "source": [
    "#### Initialize the Language Service Client"
   ]
  },
  {
   "cell_type": "code",
   "execution_count": 2,
   "metadata": {
    "collapsed": true,
    "deletable": true,
    "editable": true
   },
   "outputs": [],
   "source": [
    "client = language.LanguageServiceClient()"
   ]
  },
  {
   "cell_type": "markdown",
   "metadata": {},
   "source": [
    "#### Create text bearing positive sentiment\n",
    "A rather glowing review for a product"
   ]
  },
  {
   "cell_type": "code",
   "execution_count": 3,
   "metadata": {
    "collapsed": true,
    "deletable": true,
    "editable": true
   },
   "outputs": [],
   "source": [
    "text_positive = 'WOW! I took a chance and purchased this refurbished camera..... \\\n",
    "and can honestly say that it is the best refurbished purchase I have made!'"
   ]
  },
  {
   "cell_type": "markdown",
   "metadata": {},
   "source": [
    "#### Create a Document object\n",
    "This is what is needed to be fed into the sentiment analysis tool"
   ]
  },
  {
   "cell_type": "code",
   "execution_count": 4,
   "metadata": {
    "collapsed": false,
    "deletable": true,
    "editable": true
   },
   "outputs": [],
   "source": [
    "document_positive = types.Document(\n",
    "    content=text_positive,\n",
    "    type=enums.Document.Type.PLAIN_TEXT)"
   ]
  },
  {
   "cell_type": "markdown",
   "metadata": {},
   "source": [
    "#### Retrieve the sentiment analysis for the document\n",
    "The analyze_sentiment() function returns an object from which we extract the sentiment from the document_sentiment property"
   ]
  },
  {
   "cell_type": "code",
   "execution_count": 6,
   "metadata": {
    "collapsed": false,
    "deletable": true,
    "editable": true
   },
   "outputs": [],
   "source": [
    "sentiment = client.analyze_sentiment(document=document_positive).document_sentiment"
   ]
  },
  {
   "cell_type": "markdown",
   "metadata": {},
   "source": [
    "#### Analyze the sentiment object\n",
    "There is a sentiment score along with the magnitude of that sentiment. The sentiment score is +ve for positive sentiment and -ve for negative sentiment. \n",
    "\n",
    "The sentiment magnitude is gives the magnitude of positive or negative sentiment. A truly neutral document will have a magnitude of zero. However a document containing both strongly positive and strongly negative content will have a high magnitude but the document score may be close to zero. \n",
    "\n",
    "For more details, check out this page: https://cloud.google.com/natural-language/docs/basics#interpreting_sentiment_analysis_values"
   ]
  },
  {
   "cell_type": "code",
   "execution_count": 8,
   "metadata": {
    "collapsed": false,
    "deletable": true,
    "editable": true
   },
   "outputs": [
    {
     "name": "stdout",
     "output_type": "stream",
     "text": [
      "Text: WOW! I took a chance and purchased this refurbished item..... and can honestly say that it is the best refurbished purchase I have made!\n",
      "Sentiment: 0.5, 1.0\n"
     ]
    }
   ],
   "source": [
    "print('Sentiment: {}, {}'.format(sentiment.score, sentiment.magnitude))"
   ]
  },
  {
   "cell_type": "markdown",
   "metadata": {},
   "source": []
  },
  {
   "cell_type": "markdown",
   "metadata": {},
   "source": [
    "#### Analyzing the sentiment for a negative review"
   ]
  },
  {
   "cell_type": "code",
   "execution_count": 13,
   "metadata": {
    "collapsed": true
   },
   "outputs": [],
   "source": [
    "text_negative = 'Such a terrible product! This camera would not even turn on at first.\\\n",
    "Then when it finally did, I realized it could not even capture a decent photograph. \\\n",
    "I truly regret this purchase.'"
   ]
  },
  {
   "cell_type": "code",
   "execution_count": 14,
   "metadata": {
    "collapsed": true,
    "deletable": true,
    "editable": true
   },
   "outputs": [],
   "source": [
    "document_negative = types.Document(\n",
    "    content=text_negative,\n",
    "    type=enums.Document.Type.PLAIN_TEXT)\n",
    "\n",
    "sentiment = client.analyze_sentiment(document=document_negative).document_sentiment"
   ]
  },
  {
   "cell_type": "code",
   "execution_count": 15,
   "metadata": {
    "collapsed": false
   },
   "outputs": [
    {
     "name": "stdout",
     "output_type": "stream",
     "text": [
      "Sentiment: -0.800000011920929, 2.4000000953674316\n"
     ]
    }
   ],
   "source": [
    "print('Sentiment: {}, {}'.format(sentiment.score, sentiment.magnitude))"
   ]
  },
  {
   "cell_type": "code",
   "execution_count": null,
   "metadata": {
    "collapsed": true
   },
   "outputs": [],
   "source": []
  }
 ],
 "metadata": {
  "kernelspec": {
   "display_name": "Python 3",
   "language": "python",
   "name": "python3"
  },
  "language_info": {
   "codemirror_mode": {
    "name": "ipython",
    "version": 3
   },
   "file_extension": ".py",
   "mimetype": "text/x-python",
   "name": "python",
   "nbconvert_exporter": "python",
   "pygments_lexer": "ipython3",
   "version": "3.5.5"
  }
 },
 "nbformat": 4,
 "nbformat_minor": 2
}

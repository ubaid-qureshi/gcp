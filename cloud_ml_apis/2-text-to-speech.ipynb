{
 "cells": [
  {
   "cell_type": "markdown",
   "metadata": {
    "deletable": true,
    "editable": true
   },
   "source": [
    "#### Install the text-to-speech Python library"
   ]
  },
  {
   "cell_type": "code",
   "execution_count": 1,
   "metadata": {
    "collapsed": false,
    "deletable": true,
    "editable": true
   },
   "outputs": [
    {
     "name": "stdout",
     "output_type": "stream",
     "text": [
      "Requirement already up-to-date: google-cloud-texttospeech in /usr/local/envs/py3env/lib/python3.5/site-packages\n",
      "Requirement already up-to-date: google-api-core[grpc]<2.0.0dev,>=0.1.0 in /usr/local/envs/py3env/lib/python3.5/site-packages (from google-cloud-texttospeech)\n",
      "Requirement already up-to-date: protobuf>=3.0.0 in /usr/local/envs/py3env/lib/python3.5/site-packages (from google-api-core[grpc]<2.0.0dev,>=0.1.0->google-cloud-texttospeech)\n",
      "Requirement already up-to-date: google-auth<2.0.0dev,>=0.4.0 in /usr/local/envs/py3env/lib/python3.5/site-packages (from google-api-core[grpc]<2.0.0dev,>=0.1.0->google-cloud-texttospeech)\n",
      "Requirement already up-to-date: requests<3.0.0dev,>=2.18.0 in /usr/local/envs/py3env/lib/python3.5/site-packages (from google-api-core[grpc]<2.0.0dev,>=0.1.0->google-cloud-texttospeech)\n",
      "Requirement already up-to-date: pytz in /usr/local/envs/py3env/lib/python3.5/site-packages (from google-api-core[grpc]<2.0.0dev,>=0.1.0->google-cloud-texttospeech)\n",
      "Requirement already up-to-date: setuptools>=34.0.0 in /usr/local/envs/py3env/lib/python3.5/site-packages (from google-api-core[grpc]<2.0.0dev,>=0.1.0->google-cloud-texttospeech)\n",
      "Requirement already up-to-date: googleapis-common-protos<2.0dev,>=1.5.3 in /usr/local/envs/py3env/lib/python3.5/site-packages (from google-api-core[grpc]<2.0.0dev,>=0.1.0->google-cloud-texttospeech)\n",
      "Requirement already up-to-date: six>=1.10.0 in /usr/local/envs/py3env/lib/python3.5/site-packages (from google-api-core[grpc]<2.0.0dev,>=0.1.0->google-cloud-texttospeech)\n",
      "Requirement already up-to-date: grpcio>=1.8.2; extra == \"grpc\" in /usr/local/envs/py3env/lib/python3.5/site-packages (from google-api-core[grpc]<2.0.0dev,>=0.1.0->google-cloud-texttospeech)\n",
      "Requirement already up-to-date: cachetools>=2.0.0 in /usr/local/envs/py3env/lib/python3.5/site-packages (from google-auth<2.0.0dev,>=0.4.0->google-api-core[grpc]<2.0.0dev,>=0.1.0->google-cloud-texttospeech)\n",
      "Requirement already up-to-date: rsa>=3.1.4 in /usr/local/envs/py3env/lib/python3.5/site-packages (from google-auth<2.0.0dev,>=0.4.0->google-api-core[grpc]<2.0.0dev,>=0.1.0->google-cloud-texttospeech)\n",
      "Requirement already up-to-date: pyasn1-modules>=0.2.1 in /usr/local/envs/py3env/lib/python3.5/site-packages (from google-auth<2.0.0dev,>=0.4.0->google-api-core[grpc]<2.0.0dev,>=0.1.0->google-cloud-texttospeech)\n",
      "Requirement already up-to-date: urllib3<1.24,>=1.21.1 in /usr/local/envs/py3env/lib/python3.5/site-packages (from requests<3.0.0dev,>=2.18.0->google-api-core[grpc]<2.0.0dev,>=0.1.0->google-cloud-texttospeech)\n",
      "Requirement already up-to-date: idna<2.8,>=2.5 in /usr/local/envs/py3env/lib/python3.5/site-packages (from requests<3.0.0dev,>=2.18.0->google-api-core[grpc]<2.0.0dev,>=0.1.0->google-cloud-texttospeech)\n",
      "Requirement already up-to-date: certifi>=2017.4.17 in /usr/local/envs/py3env/lib/python3.5/site-packages (from requests<3.0.0dev,>=2.18.0->google-api-core[grpc]<2.0.0dev,>=0.1.0->google-cloud-texttospeech)\n",
      "Requirement already up-to-date: chardet<3.1.0,>=3.0.2 in /usr/local/envs/py3env/lib/python3.5/site-packages (from requests<3.0.0dev,>=2.18.0->google-api-core[grpc]<2.0.0dev,>=0.1.0->google-cloud-texttospeech)\n",
      "Requirement already up-to-date: pyasn1>=0.1.3 in /usr/local/envs/py3env/lib/python3.5/site-packages (from rsa>=3.1.4->google-auth<2.0.0dev,>=0.4.0->google-api-core[grpc]<2.0.0dev,>=0.1.0->google-cloud-texttospeech)\n",
      "\u001b[33mYou are using pip version 9.0.3, however version 18.0 is available.\n",
      "You should consider upgrading via the 'pip install --upgrade pip' command.\u001b[0m\n"
     ]
    }
   ],
   "source": [
    "!pip install --upgrade google-cloud-texttospeech"
   ]
  },
  {
   "cell_type": "markdown",
   "metadata": {
    "deletable": true,
    "editable": true
   },
   "source": [
    "#### Import the texttospeech library\n",
    "This may cause an error during import. You may need to wait a few minutes for the pip install to take effect"
   ]
  },
  {
   "cell_type": "code",
   "execution_count": 2,
   "metadata": {
    "collapsed": false,
    "deletable": true,
    "editable": true
   },
   "outputs": [],
   "source": [
    "from google.cloud import texttospeech"
   ]
  },
  {
   "cell_type": "markdown",
   "metadata": {
    "deletable": true,
    "editable": true
   },
   "source": [
    "#### Initialize the client"
   ]
  },
  {
   "cell_type": "code",
   "execution_count": 3,
   "metadata": {
    "collapsed": true,
    "deletable": true,
    "editable": true
   },
   "outputs": [],
   "source": [
    "client = texttospeech.TextToSpeechClient()"
   ]
  },
  {
   "cell_type": "markdown",
   "metadata": {
    "deletable": true,
    "editable": true
   },
   "source": [
    "#### Create a SynthesisInput object\n",
    "This can be initialized with text and will be used produce the voice"
   ]
  },
  {
   "cell_type": "code",
   "execution_count": 4,
   "metadata": {
    "collapsed": true,
    "deletable": true,
    "editable": true
   },
   "outputs": [],
   "source": [
    "synthesis_input = texttospeech.types.SynthesisInput(text=\"Oh no! My dog has chewed up the couch.\")"
   ]
  },
  {
   "cell_type": "markdown",
   "metadata": {
    "deletable": true,
    "editable": true
   },
   "source": [
    "#### Specify the parameters for the voice\n",
    "We can set the language and the gender for the voice output generated"
   ]
  },
  {
   "cell_type": "code",
   "execution_count": 5,
   "metadata": {
    "collapsed": true,
    "deletable": true,
    "editable": true
   },
   "outputs": [],
   "source": [
    "voice = texttospeech.types.VoiceSelectionParams(\n",
    "  language_code='en-US',\n",
    "  ssml_gender=texttospeech.enums.SsmlVoiceGender.NEUTRAL)"
   ]
  },
  {
   "cell_type": "markdown",
   "metadata": {
    "deletable": true,
    "editable": true
   },
   "source": [
    "#### Define the audio format for the voice output\n",
    "We set the output file to be in the MP3 format"
   ]
  },
  {
   "cell_type": "code",
   "execution_count": 6,
   "metadata": {
    "collapsed": true,
    "deletable": true,
    "editable": true
   },
   "outputs": [],
   "source": [
    "audio_config = texttospeech.types.AudioConfig(\n",
    "    audio_encoding=texttospeech.enums.AudioEncoding.MP3)"
   ]
  },
  {
   "cell_type": "markdown",
   "metadata": {
    "deletable": true,
    "editable": true
   },
   "source": [
    "#### Generate the voice\n",
    "The MP3-encoded binary is returned by the call to synthesize_speech()"
   ]
  },
  {
   "cell_type": "code",
   "execution_count": 7,
   "metadata": {
    "collapsed": true,
    "deletable": true,
    "editable": true
   },
   "outputs": [],
   "source": [
    "response = client.synthesize_speech(synthesis_input, voice, audio_config)"
   ]
  },
  {
   "cell_type": "markdown",
   "metadata": {
    "deletable": true,
    "editable": true
   },
   "source": [
    "#### Write the response output to a file"
   ]
  },
  {
   "cell_type": "code",
   "execution_count": 8,
   "metadata": {
    "collapsed": true,
    "deletable": true,
    "editable": true
   },
   "outputs": [],
   "source": [
    "with open('output.mp3', 'wb') as out:\n",
    "    out.write(response.audio_content)"
   ]
  },
  {
   "cell_type": "markdown",
   "metadata": {
    "deletable": true,
    "editable": true
   },
   "source": []
  },
  {
   "cell_type": "markdown",
   "metadata": {
    "deletable": true,
    "editable": true
   },
   "source": [
    "#### Text-to-speech is available for a number of languages\n",
    "We create an audio file in Spanish"
   ]
  },
  {
   "cell_type": "code",
   "execution_count": 9,
   "metadata": {
    "collapsed": true,
    "deletable": true,
    "editable": true
   },
   "outputs": [],
   "source": [
    "synthesis_input_es = texttospeech.types.SynthesisInput(text=\"Mi perro ha masticado el sofá\")"
   ]
  },
  {
   "cell_type": "markdown",
   "metadata": {
    "deletable": true,
    "editable": true
   },
   "source": [
    "#### Set the voice parameters\n",
    "The language changes to Spanish and we try a female voice this time"
   ]
  },
  {
   "cell_type": "code",
   "execution_count": 10,
   "metadata": {
    "collapsed": true,
    "deletable": true,
    "editable": true
   },
   "outputs": [],
   "source": [
    "voice_es = texttospeech.types.VoiceSelectionParams(\n",
    "  language_code='es-ES',\n",
    "  ssml_gender=texttospeech.enums.SsmlVoiceGender.FEMALE)"
   ]
  },
  {
   "cell_type": "code",
   "execution_count": 11,
   "metadata": {
    "collapsed": true,
    "deletable": true,
    "editable": true
   },
   "outputs": [],
   "source": [
    "response_es = client.synthesize_speech(synthesis_input_es, voice_es, audio_config)"
   ]
  },
  {
   "cell_type": "code",
   "execution_count": 12,
   "metadata": {
    "collapsed": true,
    "deletable": true,
    "editable": true
   },
   "outputs": [],
   "source": [
    "with open('output_es.mp3', 'wb') as out:\n",
    "    out.write(response_es.audio_content)"
   ]
  },
  {
   "cell_type": "markdown",
   "metadata": {
    "deletable": true,
    "editable": true
   },
   "source": []
  },
  {
   "cell_type": "markdown",
   "metadata": {
    "deletable": true,
    "editable": true
   },
   "source": [
    "### Use of SSML\n",
    "The text to be synthesized can be specified in the Speech Synthesis Markup Language (SSML). \n",
    "https://cloud.google.com/text-to-speech/docs/ssml"
   ]
  },
  {
   "cell_type": "code",
   "execution_count": 25,
   "metadata": {
    "collapsed": true,
    "deletable": true,
    "editable": true
   },
   "outputs": [],
   "source": [
    "text_ssml = '<speak><say-as interpret-as=\"expletive\">Oh no!</say-as> \\\n",
    "My dog has chewed up the couch. <break time=\"2s\"/> Now I have to buy a new one.</speak>'"
   ]
  },
  {
   "cell_type": "code",
   "execution_count": 26,
   "metadata": {
    "collapsed": true,
    "deletable": true,
    "editable": true
   },
   "outputs": [],
   "source": [
    "synthesis_input_ssml = texttospeech.types.SynthesisInput(ssml=text_ssml)"
   ]
  },
  {
   "cell_type": "code",
   "execution_count": null,
   "metadata": {
    "collapsed": true
   },
   "outputs": [],
   "source": []
  },
  {
   "cell_type": "code",
   "execution_count": 27,
   "metadata": {
    "collapsed": true,
    "deletable": true,
    "editable": true
   },
   "outputs": [],
   "source": [
    "voice = texttospeech.types.VoiceSelectionParams(\n",
    "  language_code='en-US',\n",
    "  ssml_gender=texttospeech.enums.SsmlVoiceGender.NEUTRAL)\n",
    "\n",
    "response = client.synthesize_speech(synthesis_input_ssml, voice, audio_config)"
   ]
  },
  {
   "cell_type": "code",
   "execution_count": 28,
   "metadata": {
    "collapsed": true,
    "deletable": true,
    "editable": true
   },
   "outputs": [],
   "source": [
    "with open('output_ssml.mp3', 'wb') as out:\n",
    "    out.write(response.audio_content)"
   ]
  },
  {
   "cell_type": "code",
   "execution_count": null,
   "metadata": {
    "collapsed": true,
    "deletable": true,
    "editable": true
   },
   "outputs": [],
   "source": []
  }
 ],
 "metadata": {
  "kernelspec": {
   "display_name": "Python 3",
   "language": "python",
   "name": "python3"
  },
  "language_info": {
   "codemirror_mode": {
    "name": "ipython",
    "version": 3
   },
   "file_extension": ".py",
   "mimetype": "text/x-python",
   "name": "python",
   "nbconvert_exporter": "python",
   "pygments_lexer": "ipython3",
   "version": "3.5.5"
  }
 },
 "nbformat": 4,
 "nbformat_minor": 2
}

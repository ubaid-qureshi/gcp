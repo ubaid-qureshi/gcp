{
 "cells": [
  {
   "cell_type": "code",
   "execution_count": 1,
   "metadata": {
    "collapsed": false,
    "deletable": true,
    "editable": true
   },
   "outputs": [],
   "source": [
    "from google.cloud import translate\n",
    "import html"
   ]
  },
  {
   "cell_type": "markdown",
   "metadata": {
    "deletable": true,
    "editable": true
   },
   "source": [
    "#### Initialize the translate client"
   ]
  },
  {
   "cell_type": "code",
   "execution_count": 2,
   "metadata": {
    "collapsed": true,
    "deletable": true,
    "editable": true
   },
   "outputs": [],
   "source": [
    "translate_client = translate.Client()"
   ]
  },
  {
   "cell_type": "markdown",
   "metadata": {
    "deletable": true,
    "editable": true
   },
   "source": [
    "#### Listing all available languages"
   ]
  },
  {
   "cell_type": "code",
   "execution_count": 3,
   "metadata": {
    "collapsed": true,
    "deletable": true,
    "editable": true
   },
   "outputs": [],
   "source": [
    "languages = translate_client.get_languages()"
   ]
  },
  {
   "cell_type": "code",
   "execution_count": 4,
   "metadata": {
    "collapsed": false,
    "deletable": true,
    "editable": true
   },
   "outputs": [
    {
     "name": "stdout",
     "output_type": "stream",
     "text": [
      "Afrikaans (af)\n",
      "Albanian (sq)\n",
      "Amharic (am)\n",
      "Arabic (ar)\n",
      "Armenian (hy)\n",
      "Azerbaijani (az)\n",
      "Basque (eu)\n",
      "Belarusian (be)\n",
      "Bengali (bn)\n",
      "Bosnian (bs)\n",
      "Bulgarian (bg)\n",
      "Catalan (ca)\n",
      "Cebuano (ceb)\n",
      "Chichewa (ny)\n",
      "Chinese (Simplified) (zh)\n",
      "Chinese (Traditional) (zh-TW)\n",
      "Corsican (co)\n",
      "Croatian (hr)\n",
      "Czech (cs)\n",
      "Danish (da)\n",
      "Dutch (nl)\n",
      "English (en)\n",
      "Esperanto (eo)\n",
      "Estonian (et)\n",
      "Filipino (tl)\n",
      "Finnish (fi)\n",
      "French (fr)\n",
      "Frisian (fy)\n",
      "Galician (gl)\n",
      "Georgian (ka)\n",
      "German (de)\n",
      "Greek (el)\n",
      "Gujarati (gu)\n",
      "Haitian Creole (ht)\n",
      "Hausa (ha)\n",
      "Hawaiian (haw)\n",
      "Hebrew (iw)\n",
      "Hindi (hi)\n",
      "Hmong (hmn)\n",
      "Hungarian (hu)\n",
      "Icelandic (is)\n",
      "Igbo (ig)\n",
      "Indonesian (id)\n",
      "Irish (ga)\n",
      "Italian (it)\n",
      "Japanese (ja)\n",
      "Javanese (jw)\n",
      "Kannada (kn)\n",
      "Kazakh (kk)\n",
      "Khmer (km)\n",
      "Korean (ko)\n",
      "Kurdish (Kurmanji) (ku)\n",
      "Kyrgyz (ky)\n",
      "Lao (lo)\n",
      "Latin (la)\n",
      "Latvian (lv)\n",
      "Lithuanian (lt)\n",
      "Luxembourgish (lb)\n",
      "Macedonian (mk)\n",
      "Malagasy (mg)\n",
      "Malay (ms)\n",
      "Malayalam (ml)\n",
      "Maltese (mt)\n",
      "Maori (mi)\n",
      "Marathi (mr)\n",
      "Mongolian (mn)\n",
      "Myanmar (Burmese) (my)\n",
      "Nepali (ne)\n",
      "Norwegian (no)\n",
      "Pashto (ps)\n",
      "Persian (fa)\n",
      "Polish (pl)\n",
      "Portuguese (pt)\n",
      "Punjabi (pa)\n",
      "Romanian (ro)\n",
      "Russian (ru)\n",
      "Samoan (sm)\n",
      "Scots Gaelic (gd)\n",
      "Serbian (sr)\n",
      "Sesotho (st)\n",
      "Shona (sn)\n",
      "Sindhi (sd)\n",
      "Sinhala (si)\n",
      "Slovak (sk)\n",
      "Slovenian (sl)\n",
      "Somali (so)\n",
      "Spanish (es)\n",
      "Sundanese (su)\n",
      "Swahili (sw)\n",
      "Swedish (sv)\n",
      "Tajik (tg)\n",
      "Tamil (ta)\n",
      "Telugu (te)\n",
      "Thai (th)\n",
      "Turkish (tr)\n",
      "Ukrainian (uk)\n",
      "Urdu (ur)\n",
      "Uzbek (uz)\n",
      "Vietnamese (vi)\n",
      "Welsh (cy)\n",
      "Xhosa (xh)\n",
      "Yiddish (yi)\n",
      "Yoruba (yo)\n",
      "Zulu (zu)\n"
     ]
    }
   ],
   "source": [
    "for language in languages:\n",
    "  print(u'{name} ({language})'.format(**language))"
   ]
  },
  {
   "cell_type": "markdown",
   "metadata": {
    "deletable": true,
    "editable": true
   },
   "source": [
    "#### Translation "
   ]
  },
  {
   "cell_type": "code",
   "execution_count": 4,
   "metadata": {
    "collapsed": true,
    "deletable": true,
    "editable": true
   },
   "outputs": [],
   "source": [
    "text = 'Though I do enjoy plain dark chocolate, \\\n",
    "I must say that nothing tops a good dark chocolate bar with almonds!'"
   ]
  },
  {
   "cell_type": "code",
   "execution_count": 5,
   "metadata": {
    "collapsed": false,
    "deletable": true,
    "editable": true
   },
   "outputs": [],
   "source": [
    "translation = translate_client.translate(text, target_language='fr')"
   ]
  },
  {
   "cell_type": "code",
   "execution_count": 6,
   "metadata": {
    "collapsed": false,
    "deletable": true,
    "editable": true
   },
   "outputs": [
    {
     "name": "stdout",
     "output_type": "stream",
     "text": [
      "Text: Though I do enjoy plain dark chocolate, I must say that nothing tops a good dark chocolate bar with almonds!\n",
      "\n",
      "Translation: Bien que j'apprécie le chocolat noir ordinaire, je dois dire que rien ne dépasse une bonne barre de chocolat noir avec des amandes!\n",
      "\n",
      "Detected source language: en\n"
     ]
    }
   ],
   "source": [
    "print('Text: {}'.format(translation['input']))\n",
    "print('\\nTranslation: {}'.format(html.unescape(translation['translatedText']))) \n",
    "print('\\nDetected source language: {}'.format(translation['detectedSourceLanguage'])) "
   ]
  },
  {
   "cell_type": "markdown",
   "metadata": {
    "deletable": true,
    "editable": true
   },
   "source": [
    "#### Try the translation with some other language\n",
    "We translate to Thai this time"
   ]
  },
  {
   "cell_type": "code",
   "execution_count": 15,
   "metadata": {
    "collapsed": false,
    "deletable": true,
    "editable": true
   },
   "outputs": [
    {
     "name": "stdout",
     "output_type": "stream",
     "text": [
      "\n",
      "Translation: แม้ว่าฉันจะชอบช็อคโกแลตธรรมดาฉันต้องบอกว่าไม่มีอะไรจะดีกว่าบาร์ช็อคโกแลตที่ดีกับอัลมอนด์!\n"
     ]
    }
   ],
   "source": [
    "translation = translate_client.translate(text, target_language='th')\n",
    "\n",
    "print('\\nTranslation: {}'.format(html.unescape(translation['translatedText'])))"
   ]
  },
  {
   "cell_type": "code",
   "execution_count": null,
   "metadata": {
    "collapsed": true,
    "deletable": true,
    "editable": true
   },
   "outputs": [],
   "source": []
  }
 ],
 "metadata": {
  "kernelspec": {
   "display_name": "Python 3",
   "language": "python",
   "name": "python3"
  },
  "language_info": {
   "codemirror_mode": {
    "name": "ipython",
    "version": 3
   },
   "file_extension": ".py",
   "mimetype": "text/x-python",
   "name": "python",
   "nbconvert_exporter": "python",
   "pygments_lexer": "ipython3",
   "version": "3.5.5"
  }
 },
 "nbformat": 4,
 "nbformat_minor": 2
}

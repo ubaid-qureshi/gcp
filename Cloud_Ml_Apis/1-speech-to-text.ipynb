{
 "cells": [
  {
   "cell_type": "code",
   "execution_count": 1,
   "metadata": {
    "collapsed": true,
    "deletable": true,
    "editable": true
   },
   "outputs": [],
   "source": [
    "import io\n",
    "\n",
    "\n",
    "from google.cloud import speech\n",
    "from google.cloud.speech import enums\n",
    "from google.cloud.speech import types"
   ]
  },
  {
   "cell_type": "markdown",
   "metadata": {
    "deletable": true,
    "editable": true
   },
   "source": [
    "#### Instantiate a speech client"
   ]
  },
  {
   "cell_type": "code",
   "execution_count": 2,
   "metadata": {
    "collapsed": true,
    "deletable": true,
    "editable": true
   },
   "outputs": [],
   "source": [
    "client = speech.SpeechClient()"
   ]
  },
  {
   "cell_type": "markdown",
   "metadata": {
    "deletable": true,
    "editable": true
   },
   "source": [
    "#### Using .flac file stored in a Cloud Storage bucket\n",
    "This audio file is a song with lyrics. We will use the speech API to transcribe the lyrics of this song.\n",
    "\n",
    "Currently, only Google Cloud Storage URIs are supported, which must be specified in the following format: gs://bucket_name/object_name\n",
    "\n",
    "Source of the file: https://www.kaggle.com/toponowicz/spoken-language-identification/home "
   ]
  },
  {
   "cell_type": "code",
   "execution_count": 3,
   "metadata": {
    "collapsed": false,
    "deletable": true,
    "editable": true
   },
   "outputs": [],
   "source": [
    "audio = types.RecognitionAudio(uri='gs://cloud-ml-api/audio-file-english.flac')"
   ]
  },
  {
   "cell_type": "markdown",
   "metadata": {
    "deletable": true,
    "editable": true
   },
   "source": [
    "#### Create a RecognitionConfig object\n",
    "The RecognitionConfig provides information to the recognizer that specifies how to process the request"
   ]
  },
  {
   "cell_type": "code",
   "execution_count": 4,
   "metadata": {
    "collapsed": true,
    "deletable": true,
    "editable": true
   },
   "outputs": [],
   "source": [
    "config = types.RecognitionConfig(\n",
    "  encoding=enums.RecognitionConfig.AudioEncoding.FLAC,\n",
    "  language_code='en-US' )"
   ]
  },
  {
   "cell_type": "markdown",
   "metadata": {
    "deletable": true,
    "editable": true
   },
   "source": [
    "#### Performs synchronous speech recognition\n",
    "The call to client.recognize will return results after all audio has been sent and processed. This function can only handle audio with a length of less than 1 minute"
   ]
  },
  {
   "cell_type": "code",
   "execution_count": 5,
   "metadata": {
    "collapsed": false,
    "deletable": true,
    "editable": true
   },
   "outputs": [],
   "source": [
    "response = client.recognize(config, audio)"
   ]
  },
  {
   "cell_type": "markdown",
   "metadata": {
    "deletable": true,
    "editable": true
   },
   "source": [
    "#### Parse the response\n",
    "The results from the speech recognition are stored in the results property of the response object. This property contains a list with the transcript for sequential portion of the audio.  \n",
    "\n",
    "Note that the result contains a field calls alternatives which may contain multiple alternative transcriptions - here we only have one version which is the default, since we did not ask for alternative transcriptions.\n",
    "\n",
    "Also, the transcription is not wholly accurate which is why we may require alternatives."
   ]
  },
  {
   "cell_type": "code",
   "execution_count": 6,
   "metadata": {
    "collapsed": false,
    "deletable": true,
    "editable": true
   },
   "outputs": [
    {
     "name": "stdout",
     "output_type": "stream",
     "text": [
      "Section  1 :  a day with John Milton\n",
      "Section  2 :   about 4 on a September morning of 1665\n"
     ]
    }
   ],
   "source": [
    "i = 1\n",
    "\n",
    "for result in response.results:\n",
    "    print('Section ', i, ': ', result.alternatives[0].transcript)\n",
    "    i += 1"
   ]
  },
  {
   "cell_type": "markdown",
   "metadata": {
    "deletable": true,
    "editable": true
   },
   "source": [
    "### Using longer audio files requires a different function to be called\n",
    "The client.recognize() function cannot be used for audio longer than 1 minute"
   ]
  },
  {
   "cell_type": "markdown",
   "metadata": {
    "deletable": true,
    "editable": true
   },
   "source": [
    "#### Source of file:\n",
    "http://freemusicarchive.org/music/Andrew_Walton/Fresh_Delivery/In_Place_Of_Fear#\n",
    "\n",
    "The original MP3 file has been converted to FLAC format.\n",
    "\n",
    "The file comes under an attribution share-alike license: https://creativecommons.org/licenses/by-sa/4.0/"
   ]
  },
  {
   "cell_type": "code",
   "execution_count": 7,
   "metadata": {
    "collapsed": true,
    "deletable": true,
    "editable": true
   },
   "outputs": [],
   "source": [
    "long_audio = types.RecognitionAudio(uri='gs://cloud-ml-api/Andrew_Walton-In_Place_Of_Fear_mono.flac')"
   ]
  },
  {
   "cell_type": "markdown",
   "metadata": {
    "deletable": true,
    "editable": true
   },
   "source": [
    "#### Create a new config\n",
    "* This audio contains speech in a British accent, so the language_code in the config changes to en-GB\n",
    "* We also ask for 2 alternatives for the transcription (one in addition to the single alternative provided by default). The alternatives will tend to vary around words or phrases where there is ambiguity in the pronunciation"
   ]
  },
  {
   "cell_type": "code",
   "execution_count": 8,
   "metadata": {
    "collapsed": true,
    "deletable": true,
    "editable": true
   },
   "outputs": [],
   "source": [
    "long_audio_config = types.RecognitionConfig(\n",
    "  encoding=enums.RecognitionConfig.AudioEncoding.FLAC,\n",
    "  language_code='en-GB', \n",
    "  max_alternatives = 2 )"
   ]
  },
  {
   "cell_type": "markdown",
   "metadata": {
    "deletable": true,
    "editable": true
   },
   "source": [
    "#### Use the asynchronous long_running_recognize() function\n",
    "The previously used recognize() function is synchronous and faster than long_running_recognize. However, it can only be used for short audio files of less than a minute. The long_running_recognize() function returns and longrunning.operation interface object which is used for long-running operations.\n",
    "\n",
    "Config is similar to the one used previously"
   ]
  },
  {
   "cell_type": "code",
   "execution_count": 9,
   "metadata": {
    "collapsed": false,
    "deletable": true,
    "editable": true
   },
   "outputs": [],
   "source": [
    "operation = client.long_running_recognize(long_audio_config, long_audio)"
   ]
  },
  {
   "cell_type": "markdown",
   "metadata": {
    "deletable": true,
    "editable": true
   },
   "source": [
    "#### Retrieve response from the operation object\n",
    "Here, we can specify a timeout in order to restrict the amount of time spent processing the audio file"
   ]
  },
  {
   "cell_type": "code",
   "execution_count": 10,
   "metadata": {
    "collapsed": false,
    "deletable": true,
    "editable": true
   },
   "outputs": [
    {
     "name": "stdout",
     "output_type": "stream",
     "text": [
      "Waiting for operation to complete...\n"
     ]
    }
   ],
   "source": [
    "print('Waiting for operation to complete...')\n",
    "response = operation.result(timeout=300)"
   ]
  },
  {
   "cell_type": "markdown",
   "metadata": {
    "deletable": true,
    "editable": true
   },
   "source": [
    "#### Parse the response\n",
    "This is similar to what we did previously - fetch the transcript for each section of the audio in the response. Here, we get the transcripts for the first version of the response."
   ]
  },
  {
   "cell_type": "code",
   "execution_count": 11,
   "metadata": {
    "collapsed": false,
    "deletable": true,
    "editable": true
   },
   "outputs": [
    {
     "name": "stdout",
     "output_type": "stream",
     "text": [
      "Section  1 :  in place of Fear antibiotics a magic Bullet to cure oral infection stop bacteria in their tracks and give you protection but there's a snag a floor I hate which Darwin for sore as Bugs divide and conquer they will have the last hurrah drugs are not a panacea for every malady the kill microbes of course but no permanent remedy exists the bacilli that survive can go on to thrive evolve go forth and multiply I'll drugs only drive evolutionary pressure the stakes are ranked higher we need to use our brain power to put out this fire but big Pharma has no interest driven on\n",
      "Section  2 :  migrate companies focus on the bottom line not what people need there is profit and drugs which customers keep on taking statins lower cholesterol and keep the money flowing a molecule to eat here and there will give me a patent without any of the effort none of the Investment to design your medicine which will soon be obsolete in a vicious circle I bet he demands of Wall Street Viagra Parcs up profits antidepressants numb the pain of misery and debt and so we turned to pills again there's no money to be made in developing new cures so infections will run Riot and weeping pus filled sores will once more be\n",
      "Section  3 :  I know I'm evolution runs its course there is no sticking plaster let's address the root cause nationalized the drug cartels take profit out of the equation good health without brainwashing or chemical salvation our NHS must be restored to meet a common need it was built to cure disease not feel bosses breed\n"
     ]
    }
   ],
   "source": [
    "i = 1\n",
    "\n",
    "for result in response.results:\n",
    "    print('Section ', i, ': ', result.alternatives[0].transcript)\n",
    "    i += 1"
   ]
  },
  {
   "cell_type": "markdown",
   "metadata": {
    "deletable": true,
    "editable": true
   },
   "source": [
    "#### Check the alternative transcription\n",
    "Since we had asked for 2 alternatives in the config for the audio recognition, we can check the alternative version of the transcript. The varation between this and the previous version tends to be around words or phrases where the pronunciation is a bit ambiguous."
   ]
  },
  {
   "cell_type": "code",
   "execution_count": 12,
   "metadata": {
    "collapsed": false,
    "deletable": true,
    "editable": true
   },
   "outputs": [
    {
     "name": "stdout",
     "output_type": "stream",
     "text": [
      "Section  1 :  in place of Fear antibiotics a magic Bullet to cure oral infection stop bacteria in their tracks and give you protection but there's a snag a floor I hate which Darwin for sore as Bugs divide and conquer they will have the last hurrah drugs are not a panacea for every malady the kill microbes of course but no permanent remedy exists the bacilli that survive can go on to thrive evolve go forth and multiply Isle drugs only drive evolutionary pressure the stakes are amped higher we need to use our brain power to put out this fire but big Pharma has no interest driven on\n",
      "Section  2 :  migrate companies focus on the bottom line not what people need there is profit and drugs which customers keep on taking statins lower cholesterol and keep the money flowing a molecule to eat here and there will give me a patent without any of the effort none of the Investment to design your medicine which will soon be obsolete in a vicious circle I bet he demands of Wall Street Viagra Parcs up profits antidepressants numb the pain of misery and debt and so we turned two pills again there's no money to be made in developing new cures so infections will run Riot and weeping pus filled sores will once more be\n",
      "Section  3 :  I know I'm evolution runs its course there is no sticking plaster let's address the root cause nationalized the drug cartels take profit out of the equation good health without brainwashing or chemical salvation our NHS must be restored to meet our common need it was built to cure disease not feel bosses breed\n"
     ]
    }
   ],
   "source": [
    "i = 1\n",
    "\n",
    "for result in response.results:\n",
    "    print('Section ', i, ': ', result.alternatives[1].transcript)\n",
    "    i += 1"
   ]
  },
  {
   "cell_type": "markdown",
   "metadata": {
    "deletable": true,
    "editable": true
   },
   "source": [
    "### Usign Linear16 format (i.e .raw) file\n",
    "Here, we upload a file from our own file system. The original file was downloaded from: <br />\n",
    "https://www.google.com/url?q=https://github.com/GoogleCloudPlatform/python-docs-samples/blob/master/speech/cloud-client/resources/audio.raw&sa=D&source=hangouts&ust=1534482936994000&usg=AFQjCNGc4hzXwY4fJxapFZpoEis6d3zx1g"
   ]
  },
  {
   "cell_type": "code",
   "execution_count": 17,
   "metadata": {
    "collapsed": true,
    "deletable": true,
    "editable": true
   },
   "outputs": [],
   "source": [
    "linear_file = 'datasets/audio.raw'"
   ]
  },
  {
   "cell_type": "markdown",
   "metadata": {
    "deletable": true,
    "editable": true
   },
   "source": [
    "#### Initialize a types.RecognitionAudio object with the raw contents of an audio file\n",
    "We need to load the binary contents of the audio file to the object. This is the only other way to load an audio file other than passing in the URI location of a file on Google Cloud Storage (as done previously)\n"
   ]
  },
  {
   "cell_type": "code",
   "execution_count": 18,
   "metadata": {
    "collapsed": false,
    "deletable": true,
    "editable": true
   },
   "outputs": [],
   "source": [
    "with io.open(linear_file, 'rb') as audio_file:\n",
    "      content = audio_file.read()\n",
    "      raw_audio = types.RecognitionAudio(content=content)"
   ]
  },
  {
   "cell_type": "markdown",
   "metadata": {
    "deletable": true,
    "editable": true
   },
   "source": [
    "#### Define the config for this speech-to-text conversion\n",
    "* The AutoEncoding when using raw content is LINEAR16. \n",
    "* We explicitly set the rate at which the audio data should be sampled. If we leave it blank, the native sample rate of the audio source is used. By setting a value, we are asking for the source to be re-sampled at the specified rate"
   ]
  },
  {
   "cell_type": "code",
   "execution_count": 19,
   "metadata": {
    "collapsed": true,
    "deletable": true,
    "editable": true
   },
   "outputs": [],
   "source": [
    "raw_audio_config = types.RecognitionConfig(\n",
    "  encoding=enums.RecognitionConfig.AudioEncoding.LINEAR16,\n",
    "  sample_rate_hertz=16000,\n",
    "  language_code='en-US')"
   ]
  },
  {
   "cell_type": "code",
   "execution_count": 20,
   "metadata": {
    "collapsed": true,
    "deletable": true,
    "editable": true
   },
   "outputs": [],
   "source": [
    "response = client.recognize(raw_audio_config, raw_audio)"
   ]
  },
  {
   "cell_type": "code",
   "execution_count": 21,
   "metadata": {
    "collapsed": false,
    "deletable": true,
    "editable": true
   },
   "outputs": [
    {
     "name": "stdout",
     "output_type": "stream",
     "text": [
      "Transcript: how old is the Brooklyn Bridge\n"
     ]
    }
   ],
   "source": [
    "for result in response.results:\n",
    "    print('Transcript: {}'.format(result.alternatives[0].transcript))"
   ]
  },
  {
   "cell_type": "code",
   "execution_count": null,
   "metadata": {
    "collapsed": true,
    "deletable": true,
    "editable": true
   },
   "outputs": [],
   "source": []
  },
  {
   "cell_type": "code",
   "execution_count": null,
   "metadata": {
    "collapsed": true,
    "deletable": true,
    "editable": true
   },
   "outputs": [],
   "source": []
  },
  {
   "cell_type": "code",
   "execution_count": null,
   "metadata": {
    "collapsed": true,
    "deletable": true,
    "editable": true
   },
   "outputs": [],
   "source": []
  },
  {
   "cell_type": "code",
   "execution_count": null,
   "metadata": {
    "collapsed": true,
    "deletable": true,
    "editable": true
   },
   "outputs": [],
   "source": []
  }
 ],
 "metadata": {
  "kernelspec": {
   "display_name": "Python 3",
   "language": "python",
   "name": "python3"
  },
  "language_info": {
   "codemirror_mode": {
    "name": "ipython",
    "version": 3
   },
   "file_extension": ".py",
   "mimetype": "text/x-python",
   "name": "python",
   "nbconvert_exporter": "python",
   "pygments_lexer": "ipython3",
   "version": "3.5.5"
  }
 },
 "nbformat": 4,
 "nbformat_minor": 2
}
